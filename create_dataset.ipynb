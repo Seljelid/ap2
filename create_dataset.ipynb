{
 "cells": [
  {
   "cell_type": "code",
   "execution_count": 2,
   "metadata": {
    "collapsed": true
   },
   "outputs": [],
   "source": [
    "import numpy as np\n",
    "import csv\n",
    "import pandas as pd\n",
    "from datetime import datetime as dt\n",
    "import tensorflow as tf\n",
    "\n",
    "DATA_PATH = 'Data/ai_dataset2.csv'\n",
    "\n",
    "def read_data(file):\n",
    "    with open(file) as file:\n",
    "        df = pd.read_csv(file, delimiter=',', low_memory='false')\n",
    "        n_nan = df.isnull().sum()   #count number of NaN\n",
    "        df.fillna(value=0,inplace='true')  #fill NaN with zero. Don't do this for now\n",
    "        header = list(df)\n",
    "        #data = df.as_matrix()\n",
    "        #for row in df:\n",
    "           # row[1] = dt.strptime(row[1],'%d%b%Y') #create datetime objects\n",
    "    return df, header"
   ]
  },
  {
   "cell_type": "code",
   "execution_count": 3,
   "metadata": {},
   "outputs": [
    {
     "name": "stdout",
     "output_type": "stream",
     "text": [
      "['portfolio', 'date', 'xref', 'F1', 'F2', 'F3', 'F4', 'F5', 'F6', 'F7', 'F8', 'F9', 'F10', 'F11', 'F12', 'F13', 'F14', 'F15', 'F16', 'F17', 'F18', 'F19', 'F20', 'F21', 'z_score_4w', 'z_score_8w', 'z_score_12w']\n0           MS:TS75320\n1           MS:TS75390\n2           MS:TS75299\n3           MS:TS75393\n4           MS:TS75348\n5           MS:TS75301\n6           MS:TS74781\n7           MS:TS74731\n8           MS:TS74670\n9           MS:TS74685\n10          MS:TS74725\n11          MS:TS74708\n12          MS:TS72758\n13          MS:TS72645\n14          MS:TS72760\n15          MS:TS72762\n16          MS:TS72794\n17          MS:TS72764\n18          MS:TS72793\n19          MS:TS72225\n20          MS:TS72253\n21          MS:TS72223\n22          MS:TS72216\n23          MS:TS72213\n24          MS:TS72215\n25          MS:TS72236\n26          MS:TS72228\n27          MS:TS72210\n28          MS:TS72221\n29          MS:TS72230\n              ...     \n2337851      MS:TS3019\n2337852      MS:TS3016\n2337853      MS:TS3013\n2337854      MS:TS1446\n2337855      MS:TS1438\n2337856      MS:TS1437\n2337857      MS:TS1479\n2337858       MS:TS153\n2337859      MS:TS1591\n2337860      MS:TS1587\n2337861      MS:TS1552\n2337862      MS:TS1551\n2337863       MS:TS173\n2337864      MS:TS1787\n2337865      MS:TS1915\n2337866      MS:TS1312\n2337867       MS:TS120\n2337868    MS:TS106334\n2337869    MS:TS106135\n2337870     MS:TS96166\n2337871     MS:TS96060\n2337872     MS:TS95684\n2337873     MS:TS95651\n2337874       MS:TS951\n2337875     MS:TS97953\n2337876     MS:TS99672\n2337877    MS:TS100733\n2337878    MS:TS103354\n2337879    MS:TS102470\n2337880    MS:TS104074\nName: xref, dtype: object\n"
     ]
    }
   ],
   "source": [
    "df, header = read_data(DATA_PATH)\n",
    "print(header)\n",
    "print(df['xref'])"
   ]
  },
  {
   "cell_type": "code",
   "execution_count": 20,
   "metadata": {},
   "outputs": [],
   "source": [
    "COLUMNS = header\n",
    "CATEGORICAL_COLUMNS = ['portfolio','xref']\n",
    "CONTINUOUS_COLUMNS = ['F1','F2','F3','F4','F5','F6','F7','F8','F9','F10','F11','F12','F13','F14','F15','F16',\n",
    "                     'F17','F18','F19','F20','F21']\n",
    "TARGET_COLUMN = ['z_score_4w']"
   ]
  },
  {
   "cell_type": "code",
   "execution_count": 28,
   "metadata": {},
   "outputs": [],
   "source": [
    "def input_fn(df):\n",
    "    # Creates a dictionary mapping from each continuous feature column name (k) to\n",
    "  # the values of that column stored in a constant Tensor.\n",
    "  continuous_cols = {k: tf.constant(df[k].values)\n",
    "                     for k in CONTINUOUS_COLUMNS}\n",
    "  # Creates a dictionary mapping from each categorical feature column name (k)\n",
    "  # to the values of that column stored in a tf.SparseTensor.\n",
    "  categorical_cols = {k: tf.SparseTensor(\n",
    "      indices=[[i, 0] for i in range(df[k].size)],\n",
    "      values=df[k].values,\n",
    "      shape=[df[k].size, 1])\n",
    "                      for k in CATEGORICAL_COLUMNS}\n",
    "  # Merges the two dictionaries into one.\n",
    "  feature_cols = dict(list(categorical_cols.items()) + list(continuous_cols.items()))\n",
    "  target = tf.constant(df[TARGET_COLUMN].values)\n",
    "  # Returns the feature columns and the label.\n",
    "  return feature_cols, target"
   ]
  },
  {
   "cell_type": "code",
   "execution_count": 59,
   "metadata": {},
   "outputs": [
    {
     "name": "stdout",
     "output_type": "stream",
     "text": [
      "{'portfolio': <tensorflow.python.framework.sparse_tensor.SparseTensor object at 0x15f3a8da0>, 'xref': <tensorflow.python.framework.sparse_tensor.SparseTensor object at 0x277ab1be0>, 'F1': <tf.Tensor 'Const:0' shape=(2337881,) dtype=float64>, 'F2': <tf.Tensor 'Const_1:0' shape=(2337881,) dtype=float64>, 'F3': <tf.Tensor 'Const_2:0' shape=(2337881,) dtype=float64>, 'F4': <tf.Tensor 'Const_3:0' shape=(2337881,) dtype=float64>, 'F5': <tf.Tensor 'Const_4:0' shape=(2337881,) dtype=float64>, 'F6': <tf.Tensor 'Const_5:0' shape=(2337881,) dtype=float64>, 'F7': <tf.Tensor 'Const_6:0' shape=(2337881,) dtype=float64>, 'F8': <tf.Tensor 'Const_7:0' shape=(2337881,) dtype=float64>, 'F9': <tf.Tensor 'Const_8:0' shape=(2337881,) dtype=float64>, 'F10': <tf.Tensor 'Const_9:0' shape=(2337881,) dtype=float64>, 'F11': <tf.Tensor 'Const_10:0' shape=(2337881,) dtype=float64>, 'F12': <tf.Tensor 'Const_11:0' shape=(2337881,) dtype=float64>, 'F13': <tf.Tensor 'Const_12:0' shape=(2337881,) dtype=float64>, 'F14': <tf.Tensor 'Const_13:0' shape=(2337881,) dtype=float64>, 'F15': <tf.Tensor 'Const_14:0' shape=(2337881,) dtype=float64>, 'F16': <tf.Tensor 'Const_15:0' shape=(2337881,) dtype=float64>, 'F17': <tf.Tensor 'Const_16:0' shape=(2337881,) dtype=float64>, 'F18': <tf.Tensor 'Const_17:0' shape=(2337881,) dtype=float64>, 'F19': <tf.Tensor 'Const_18:0' shape=(2337881,) dtype=float64>, 'F20': <tf.Tensor 'Const_19:0' shape=(2337881,) dtype=float64>, 'F21': <tf.Tensor 'Const_20:0' shape=(2337881,) dtype=float64>}\n"
     ]
    },
    {
     "name": "stdout",
     "output_type": "stream",
     "text": [
      "-2.312\n"
     ]
    },
    {
     "name": "stdout",
     "output_type": "stream",
     "text": [
      "-1.085\n"
     ]
    },
    {
     "name": "stdout",
     "output_type": "stream",
     "text": [
      "b'MS:TS69451'\n"
     ]
    }
   ],
   "source": [
    "import tensorflow as tf\n",
    "tf.reset_default_graph()\n",
    "x, y = input_fn(df)\n",
    "print(x)\n",
    "\n",
    "init = tf.global_variables_initializer()\n",
    "with tf.Session() as sess:\n",
    "    sess.run(init)\n",
    "    print(sess.run(x['F1'][100000]))\n",
    "    print(sess.run(x['F2'][100000]))\n",
    "    print(sess.run(x['xref'].values[100000]))"
   ]
  },
  {
   "cell_type": "code",
   "execution_count": null,
   "metadata": {},
   "outputs": [],
   "source": [
    ""
   ]
  }
 ],
 "metadata": {
  "kernelspec": {
   "display_name": "Python 2",
   "language": "python",
   "name": "python2"
  },
  "language_info": {
   "codemirror_mode": {
    "name": "ipython",
    "version": 2.0
   },
   "file_extension": ".py",
   "mimetype": "text/x-python",
   "name": "python",
   "nbconvert_exporter": "python",
   "pygments_lexer": "ipython2",
   "version": "2.7.6"
  }
 },
 "nbformat": 4,
 "nbformat_minor": 0
}