{
 "cells": [
  {
   "cell_type": "code",
   "execution_count": 1,
   "metadata": {
    "collapsed": true
   },
   "outputs": [],
   "source": [
    "import numpy as np\n",
    "import pandas as pd\n",
    "\n",
    "from datetime import datetime as dt\n",
    "DATA_PATH = 'Data/ai_dataset2.csv'"
   ]
  },
  {
   "cell_type": "code",
   "execution_count": 14,
   "metadata": {},
   "outputs": [],
   "source": [
    "def read_data(file):\n",
    "    with open(file) as file:\n",
    "        df = pd.read_csv(file,delimiter=',',low_memory='false')\n",
    "        n_nan = df.isnull().sum()   #count number of NaN\n",
    "        df.fillna(value=0,inplace='true')  #fill NaN with zero\n",
    "        #df = pd.get_dummies(df, columns = [0,2])\n",
    "        data = df.as_matrix()\n",
    "        for row in data:\n",
    "            row[1] = dt.strptime(row[1],'%d%b%Y') #create datetime objects\n",
    "    return data, n_nan"
   ]
  },
  {
   "cell_type": "code",
   "execution_count": 14,
   "metadata": {},
   "outputs": [
    {
     "name": "stdout",
     "output_type": "stream",
     "text": [
      "portfolio            0\ndate                 0\nxref                 0\nF1              186717\nF2              153694\nF3              263725\nF4              360939\nF5              550993\nF6              264716\nF7              837971\nF8              306418\nF9              464719\nF10             231668\nF11             751730\nF12             318807\nF13             124660\nF14             206518\nF15              57793\nF16              44597\nF17              76738\nF18              52265\nF19            1023106\nF20            1320955\nF21            1469304\nz_score_4w       79087\nz_score_8w      112613\nz_score_12w     146036\ndtype: int64\n"
     ]
    }
   ],
   "source": [
    "data, n_nan = read_data(DATA_PATH)\n",
    "print(n_nan)"
   ]
  },
  {
   "cell_type": "code",
   "execution_count": 16,
   "metadata": {},
   "outputs": [],
   "source": [
    "dummis = pd.get_dummies(data[:,2])\n",
    "dummis = dummis.as_matrix()\n",
    "data = np.append(data,dummis,axis=1)\n",
    "print(data)"
   ]
  },
  {
   "cell_type": "code",
   "execution_count": 5,
   "metadata": {},
   "outputs": [
    {
     "name": "stdout",
     "output_type": "stream",
     "text": [
      "[['MP' datetime.datetime(2016, 5, 30, 0, 0) 'MS:TS3175' ..., 0.04254239\n  1.8708999476 1.3932566397]\n ['MP' datetime.datetime(2016, 5, 30, 0, 0) 'MS:TS3193' ..., 0.7571263166\n  0.7388413449 -0.194617139]\n ['MP' datetime.datetime(2016, 5, 30, 0, 0) 'MS:TS3468' ..., -0.490296999\n  -0.419257314 -0.5824872560000001]\n ..., \n ['MP' datetime.datetime(2017, 1, 9, 0, 0) 'MS:TS100733' ..., 0.0 0.0 0.0]\n ['MP' datetime.datetime(2017, 1, 9, 0, 0) 'MS:TS103354' ..., 0.0 0.0 0.0]\n ['MP' datetime.datetime(2017, 1, 9, 0, 0) 'MS:TS102470' ..., 0.0 0.0 0.0]]\n"
     ]
    }
   ],
   "source": [
    "test_data = data[-5000:-1,:]\n",
    "print(test_data)"
   ]
  },
  {
   "cell_type": "code",
   "execution_count": 6,
   "metadata": {},
   "outputs": [
    {
     "ename": "TypeError",
     "evalue": "'function' object is not subscriptable",
     "traceback": [
      "\u001b[0;31m---------------------------------------------------------------------------\u001b[0m",
      "\u001b[0;31mTypeError\u001b[0m                                 Traceback (most recent call last)",
      "\u001b[0;32m<ipython-input-6-a85fc197648f>\u001b[0m in \u001b[0;36m<module>\u001b[0;34m()\u001b[0m\n\u001b[0;32m----> 1\u001b[0;31m \u001b[0mtest_data\u001b[0m\u001b[0;34m[\u001b[0m\u001b[0;34m:\u001b[0m\u001b[0;34m,\u001b[0m\u001b[0;36m2\u001b[0m\u001b[0;34m]\u001b[0m \u001b[0;34m=\u001b[0m \u001b[0;34m[\u001b[0m\u001b[0mi\u001b[0m \u001b[0;32mfor\u001b[0m \u001b[0mindex\u001b[0m \u001b[0;32min\u001b[0m \u001b[0mnp\u001b[0m\u001b[0;34m.\u001b[0m\u001b[0munique\u001b[0m\u001b[0;34m[\u001b[0m\u001b[0mtest_data\u001b[0m\u001b[0;34m[\u001b[0m\u001b[0;34m:\u001b[0m\u001b[0;34m,\u001b[0m\u001b[0;36m2\u001b[0m\u001b[0;34m]\u001b[0m\u001b[0;34m]\u001b[0m\u001b[0;34m]\u001b[0m\u001b[0;34m\u001b[0m\u001b[0m\n\u001b[0m\u001b[1;32m      2\u001b[0m \u001b[0mprint\u001b[0m\u001b[0;34m(\u001b[0m\u001b[0mtest_data\u001b[0m\u001b[0;34m)\u001b[0m\u001b[0;34m\u001b[0m\u001b[0m\n",
      "\u001b[0;31mTypeError\u001b[0m: 'function' object is not subscriptable"
     ],
     "output_type": "error"
    }
   ],
   "source": [
    "test_data[:,2] = [i for index in np.unique[test_data[:,2]]]\n",
    "print(test_data)"
   ]
  },
  {
   "cell_type": "code",
   "execution_count": null,
   "metadata": {},
   "outputs": [],
   "source": [
    ""
   ]
  }
 ],
 "metadata": {
  "kernelspec": {
   "display_name": "Python 2",
   "language": "python",
   "name": "python2"
  },
  "language_info": {
   "codemirror_mode": {
    "name": "ipython",
    "version": 2.0
   },
   "file_extension": ".py",
   "mimetype": "text/x-python",
   "name": "python",
   "nbconvert_exporter": "python",
   "pygments_lexer": "ipython2",
   "version": "2.7.6"
  }
 },
 "nbformat": 4,
 "nbformat_minor": 0
}